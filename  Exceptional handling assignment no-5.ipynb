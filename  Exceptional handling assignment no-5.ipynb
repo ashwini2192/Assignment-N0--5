{
 "cells": [
  {
   "cell_type": "markdown",
   "metadata": {},
   "source": [
    "   # Exceptional Handling Assignment N0-5"
   ]
  },
  {
   "cell_type": "markdown",
   "metadata": {},
   "source": [
    "### 1. Write a function to compute 5/0 and use try/except to catch the exceptions."
   ]
  },
  {
   "cell_type": "code",
   "execution_count": 7,
   "metadata": {},
   "outputs": [],
   "source": [
    "def math():\n",
    "    while True:\n",
    "        try: \n",
    "            a=int(input(\"Enter any number for A : \"))\n",
    "            b=int(input(\"Enter any number for B : \"))\n",
    "            c= a/b\n",
    "        except ZeroDivisionError as ze:\n",
    "            print(\"Division by zero not allowed \")\n",
    "            #print(ze)\n",
    "            #break\n",
    "        else:\n",
    "            print(\"mathematical operation is possible\")\n",
    "            print(c)\n",
    "            break\n",
    "        finally:\n",
    "            print(\"successfully done\")\n",
    "\n",
    "     #          f.close()\n",
    "\n",
    "    \n",
    "    "
   ]
  },
  {
   "cell_type": "code",
   "execution_count": 8,
   "metadata": {},
   "outputs": [
    {
     "name": "stdout",
     "output_type": "stream",
     "text": [
      "Enter any number for A : 6\n",
      "Enter any number for B : 0\n",
      "Division by zero not allowed \n",
      "successfully done\n",
      "Enter any number for A : 3\n",
      "Enter any number for B : 3\n",
      "mathematical operation is possible\n",
      "1.0\n",
      "successfully done\n"
     ]
    }
   ],
   "source": [
    "math()"
   ]
  },
  {
   "cell_type": "code",
   "execution_count": null,
   "metadata": {},
   "outputs": [],
   "source": []
  },
  {
   "cell_type": "code",
   "execution_count": null,
   "metadata": {},
   "outputs": [],
   "source": []
  },
  {
   "cell_type": "markdown",
   "metadata": {},
   "source": [
    "### 2. Implement a Python program to generate all sentences where subject is in[\"Americans\", \"Indians\"] and verb is in [\"Play\", \"watch\"] and the object is in[\"Baseball\",\"cricket\"]."
   ]
  },
  {
   "cell_type": "raw",
   "metadata": {},
   "source": [
    "Hint: Subject,Verb and Object should be declared in the program as shown below.\n",
    "subjects=[\"Americans \",\"Indians\"]\n",
    "verbs=[\"play\",\"watch\"]\n",
    "objects=[\"Baseball\",\"Cricket\"]\n",
    "Output should come as below:\n",
    "Americans play Baseball.\n",
    "Americans play Cricket.\n",
    "Americans watch Baseball.\n",
    "Americans watch Cricket.\n",
    "Indians play Baseball.\n",
    "Indians play Cricket.\n",
    "Indians watch Baseball.\n",
    "Indians watch Cricket."
   ]
  },
  {
   "cell_type": "code",
   "execution_count": 13,
   "metadata": {},
   "outputs": [
    {
     "name": "stdout",
     "output_type": "stream",
     "text": [
      "Americans play Baseball \n",
      "Americans play cricket \n",
      "Americans watch Baseball \n",
      "Americans watch cricket \n",
      "Indians play Baseball \n",
      "Indians play cricket \n",
      "Indians watch Baseball \n",
      "Indians watch cricket \n"
     ]
    }
   ],
   "source": [
    "subjects=[\"Americans\",\"Indians\"]\n",
    "verbs=[\"play\",\"watch\"]\n",
    "objects=[\"Baseball\",\"cricket\"]\n",
    "\n",
    "country_action=[ (sub+\" \"+ver+\" \"+obj+\" \" )for sub in subjects for ver in verbs for obj in objects ]\n",
    "for a in country_action:\n",
    "    print(a)"
   ]
  },
  {
   "cell_type": "code",
   "execution_count": null,
   "metadata": {},
   "outputs": [],
   "source": []
  },
  {
   "cell_type": "code",
   "execution_count": null,
   "metadata": {},
   "outputs": [],
   "source": []
  },
  {
   "cell_type": "code",
   "execution_count": null,
   "metadata": {},
   "outputs": [],
   "source": []
  }
 ],
 "metadata": {
  "kernelspec": {
   "display_name": "Python 3",
   "language": "python",
   "name": "python3"
  },
  "language_info": {
   "codemirror_mode": {
    "name": "ipython",
    "version": 3
   },
   "file_extension": ".py",
   "mimetype": "text/x-python",
   "name": "python",
   "nbconvert_exporter": "python",
   "pygments_lexer": "ipython3",
   "version": "3.8.5"
  }
 },
 "nbformat": 4,
 "nbformat_minor": 4
}
